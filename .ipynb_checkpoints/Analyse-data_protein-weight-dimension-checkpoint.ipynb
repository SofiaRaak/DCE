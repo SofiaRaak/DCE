{
 "cells": [
  {
   "cell_type": "markdown",
   "metadata": {},
   "source": [
    "## Determination of relationship between the molecular weight and gyration radius of proteins\n",
    "\n",
    "It is useful to be able to estimate the radius of a particle based on its molecular weight, as the radius of a particle can be used to calculate an estimated diffusion coefficient of said particle. To that end, this notebook was used to find an equation accurately describing the relationship between the molecular weight of a protein and its gyration radius.\n",
    "\n",
    "Data from Tyn, M.T. and Gusek, T.W. (1990), Prediction of diffusion coefficients of proteins. Biotechnol. Bioeng., 35: 327-338. https://doi.org/10.1002/bit.260350402"
   ]
  },
  {
   "cell_type": "code",
   "execution_count": 7,
   "metadata": {},
   "outputs": [],
   "source": [
    "import pandas as pd\n",
    "import matplotlib.pyplot as plt\n",
    "import math\n",
    "from sklearn.linear_model import LinearRegression"
   ]
  },
  {
   "cell_type": "code",
   "execution_count": 2,
   "metadata": {},
   "outputs": [
    {
     "data": {
      "text/html": [
       "<div>\n",
       "<style scoped>\n",
       "    .dataframe tbody tr th:only-of-type {\n",
       "        vertical-align: middle;\n",
       "    }\n",
       "\n",
       "    .dataframe tbody tr th {\n",
       "        vertical-align: top;\n",
       "    }\n",
       "\n",
       "    .dataframe thead th {\n",
       "        text-align: right;\n",
       "    }\n",
       "</style>\n",
       "<table border=\"1\" class=\"dataframe\">\n",
       "  <thead>\n",
       "    <tr style=\"text-align: right;\">\n",
       "      <th></th>\n",
       "      <th>Da</th>\n",
       "      <th>Radius of gyration, Å</th>\n",
       "    </tr>\n",
       "  </thead>\n",
       "  <tbody>\n",
       "    <tr>\n",
       "      <th>0</th>\n",
       "      <td>12640</td>\n",
       "      <td>14.8</td>\n",
       "    </tr>\n",
       "    <tr>\n",
       "      <th>1</th>\n",
       "      <td>13700</td>\n",
       "      <td>14.8</td>\n",
       "    </tr>\n",
       "    <tr>\n",
       "      <th>2</th>\n",
       "      <td>17000</td>\n",
       "      <td>14.8</td>\n",
       "    </tr>\n",
       "    <tr>\n",
       "      <th>3</th>\n",
       "      <td>13300</td>\n",
       "      <td>14.5</td>\n",
       "    </tr>\n",
       "    <tr>\n",
       "      <th>4</th>\n",
       "      <td>14180</td>\n",
       "      <td>16.7</td>\n",
       "    </tr>\n",
       "    <tr>\n",
       "      <th>...</th>\n",
       "      <td>...</td>\n",
       "      <td>...</td>\n",
       "    </tr>\n",
       "    <tr>\n",
       "      <th>193</th>\n",
       "      <td>39000000</td>\n",
       "      <td>924.0</td>\n",
       "    </tr>\n",
       "    <tr>\n",
       "      <th>194</th>\n",
       "      <td>40000000</td>\n",
       "      <td>924.0</td>\n",
       "    </tr>\n",
       "    <tr>\n",
       "      <th>195</th>\n",
       "      <td>40590000</td>\n",
       "      <td>924.0</td>\n",
       "    </tr>\n",
       "    <tr>\n",
       "      <th>196</th>\n",
       "      <td>40700000</td>\n",
       "      <td>924.0</td>\n",
       "    </tr>\n",
       "    <tr>\n",
       "      <th>197</th>\n",
       "      <td>50000000</td>\n",
       "      <td>924.0</td>\n",
       "    </tr>\n",
       "  </tbody>\n",
       "</table>\n",
       "<p>198 rows × 2 columns</p>\n",
       "</div>"
      ],
      "text/plain": [
       "           Da  Radius of gyration, Å\n",
       "0       12640                   14.8\n",
       "1       13700                   14.8\n",
       "2       17000                   14.8\n",
       "3       13300                   14.5\n",
       "4       14180                   16.7\n",
       "..        ...                    ...\n",
       "193  39000000                  924.0\n",
       "194  40000000                  924.0\n",
       "195  40590000                  924.0\n",
       "196  40700000                  924.0\n",
       "197  50000000                  924.0\n",
       "\n",
       "[198 rows x 2 columns]"
      ]
     },
     "execution_count": 2,
     "metadata": {},
     "output_type": "execute_result"
    }
   ],
   "source": [
    "data = pd.read_excel('protein-mass_vs_gyration-radius.xlsx')\n",
    "data"
   ]
  },
  {
   "cell_type": "markdown",
   "metadata": {},
   "source": [
    "## Edit dataframe\n",
    "- Add columns\n",
    "- Change units in new columns"
   ]
  },
  {
   "cell_type": "code",
   "execution_count": 3,
   "metadata": {},
   "outputs": [
    {
     "data": {
      "text/html": [
       "<div>\n",
       "<style scoped>\n",
       "    .dataframe tbody tr th:only-of-type {\n",
       "        vertical-align: middle;\n",
       "    }\n",
       "\n",
       "    .dataframe tbody tr th {\n",
       "        vertical-align: top;\n",
       "    }\n",
       "\n",
       "    .dataframe thead th {\n",
       "        text-align: right;\n",
       "    }\n",
       "</style>\n",
       "<table border=\"1\" class=\"dataframe\">\n",
       "  <thead>\n",
       "    <tr style=\"text-align: right;\">\n",
       "      <th></th>\n",
       "      <th>Da</th>\n",
       "      <th>kDa</th>\n",
       "      <th>Radius of gyration, Å</th>\n",
       "      <th>R, nm</th>\n",
       "    </tr>\n",
       "  </thead>\n",
       "  <tbody>\n",
       "    <tr>\n",
       "      <th>0</th>\n",
       "      <td>12640</td>\n",
       "      <td>1.264</td>\n",
       "      <td>14.8</td>\n",
       "      <td>1.48</td>\n",
       "    </tr>\n",
       "    <tr>\n",
       "      <th>1</th>\n",
       "      <td>13700</td>\n",
       "      <td>1.370</td>\n",
       "      <td>14.8</td>\n",
       "      <td>1.48</td>\n",
       "    </tr>\n",
       "    <tr>\n",
       "      <th>2</th>\n",
       "      <td>17000</td>\n",
       "      <td>1.700</td>\n",
       "      <td>14.8</td>\n",
       "      <td>1.48</td>\n",
       "    </tr>\n",
       "    <tr>\n",
       "      <th>3</th>\n",
       "      <td>13300</td>\n",
       "      <td>1.330</td>\n",
       "      <td>14.5</td>\n",
       "      <td>1.45</td>\n",
       "    </tr>\n",
       "    <tr>\n",
       "      <th>4</th>\n",
       "      <td>14180</td>\n",
       "      <td>1.418</td>\n",
       "      <td>16.7</td>\n",
       "      <td>1.67</td>\n",
       "    </tr>\n",
       "    <tr>\n",
       "      <th>...</th>\n",
       "      <td>...</td>\n",
       "      <td>...</td>\n",
       "      <td>...</td>\n",
       "      <td>...</td>\n",
       "    </tr>\n",
       "    <tr>\n",
       "      <th>193</th>\n",
       "      <td>39000000</td>\n",
       "      <td>3900.000</td>\n",
       "      <td>924.0</td>\n",
       "      <td>92.40</td>\n",
       "    </tr>\n",
       "    <tr>\n",
       "      <th>194</th>\n",
       "      <td>40000000</td>\n",
       "      <td>4000.000</td>\n",
       "      <td>924.0</td>\n",
       "      <td>92.40</td>\n",
       "    </tr>\n",
       "    <tr>\n",
       "      <th>195</th>\n",
       "      <td>40590000</td>\n",
       "      <td>4059.000</td>\n",
       "      <td>924.0</td>\n",
       "      <td>92.40</td>\n",
       "    </tr>\n",
       "    <tr>\n",
       "      <th>196</th>\n",
       "      <td>40700000</td>\n",
       "      <td>4070.000</td>\n",
       "      <td>924.0</td>\n",
       "      <td>92.40</td>\n",
       "    </tr>\n",
       "    <tr>\n",
       "      <th>197</th>\n",
       "      <td>50000000</td>\n",
       "      <td>5000.000</td>\n",
       "      <td>924.0</td>\n",
       "      <td>92.40</td>\n",
       "    </tr>\n",
       "  </tbody>\n",
       "</table>\n",
       "<p>198 rows × 4 columns</p>\n",
       "</div>"
      ],
      "text/plain": [
       "           Da       kDa  Radius of gyration, Å  R, nm\n",
       "0       12640     1.264                   14.8   1.48\n",
       "1       13700     1.370                   14.8   1.48\n",
       "2       17000     1.700                   14.8   1.48\n",
       "3       13300     1.330                   14.5   1.45\n",
       "4       14180     1.418                   16.7   1.67\n",
       "..        ...       ...                    ...    ...\n",
       "193  39000000  3900.000                  924.0  92.40\n",
       "194  40000000  4000.000                  924.0  92.40\n",
       "195  40590000  4059.000                  924.0  92.40\n",
       "196  40700000  4070.000                  924.0  92.40\n",
       "197  50000000  5000.000                  924.0  92.40\n",
       "\n",
       "[198 rows x 4 columns]"
      ]
     },
     "execution_count": 3,
     "metadata": {},
     "output_type": "execute_result"
    }
   ],
   "source": [
    "kDa = pd.Series(data['Da']/10000)\n",
    "nm = pd.Series(data['Radius of gyration, Å']/10)\n",
    "\n",
    "data.insert(1, 'kDa', kDa)\n",
    "data.insert(3, 'R, nm', nm)\n",
    "data"
   ]
  },
  {
   "cell_type": "markdown",
   "metadata": {},
   "source": [
    "## Plot data"
   ]
  },
  {
   "cell_type": "code",
   "execution_count": 4,
   "metadata": {},
   "outputs": [
    {
     "data": {
      "text/plain": [
       "<AxesSubplot:xlabel='kDa', ylabel='R, nm'>"
      ]
     },
     "execution_count": 4,
     "metadata": {},
     "output_type": "execute_result"
    },
    {
     "data": {
      "image/png": "[encoded data removed]",
      "text/plain": [
       "<Figure size 432x288 with 1 Axes>"
      ]
     },
     "metadata": {
      "needs_background": "light"
     },
     "output_type": "display_data"
    }
   ],
   "source": [
    "%matplotlib inline\n",
    "\n",
    "data.plot.scatter('kDa', 'R, nm')"
   ]
  },
  {
   "cell_type": "markdown",
   "metadata": {},
   "source": [
    "The relationship between the hydrodynamic radius (Rh) and molecular weight (MW) has been described as follows:\n",
    "\n",
    "Rh ∝ MW^1/3\n",
    "\n",
    "For a more accurate plot, transform MW data to MW^1/3"
   ]
  },
  {
   "cell_type": "code",
   "execution_count": 5,
   "metadata": {},
   "outputs": [
    {
     "data": {
      "text/html": [
       "<div>\n",
       "<style scoped>\n",
       "    .dataframe tbody tr th:only-of-type {\n",
       "        vertical-align: middle;\n",
       "    }\n",
       "\n",
       "    .dataframe tbody tr th {\n",
       "        vertical-align: top;\n",
       "    }\n",
       "\n",
       "    .dataframe thead th {\n",
       "        text-align: right;\n",
       "    }\n",
       "</style>\n",
       "<table border=\"1\" class=\"dataframe\">\n",
       "  <thead>\n",
       "    <tr style=\"text-align: right;\">\n",
       "      <th></th>\n",
       "      <th>Da</th>\n",
       "      <th>kDa</th>\n",
       "      <th>Radius of gyration, Å</th>\n",
       "      <th>R, nm</th>\n",
       "      <th>kDa^1/3</th>\n",
       "    </tr>\n",
       "  </thead>\n",
       "  <tbody>\n",
       "    <tr>\n",
       "      <th>0</th>\n",
       "      <td>12640</td>\n",
       "      <td>1.264</td>\n",
       "      <td>14.8</td>\n",
       "      <td>1.48</td>\n",
       "      <td>1.081224</td>\n",
       "    </tr>\n",
       "    <tr>\n",
       "      <th>1</th>\n",
       "      <td>13700</td>\n",
       "      <td>1.370</td>\n",
       "      <td>14.8</td>\n",
       "      <td>1.48</td>\n",
       "      <td>1.110641</td>\n",
       "    </tr>\n",
       "    <tr>\n",
       "      <th>2</th>\n",
       "      <td>17000</td>\n",
       "      <td>1.700</td>\n",
       "      <td>14.8</td>\n",
       "      <td>1.48</td>\n",
       "      <td>1.193483</td>\n",
       "    </tr>\n",
       "    <tr>\n",
       "      <th>3</th>\n",
       "      <td>13300</td>\n",
       "      <td>1.330</td>\n",
       "      <td>14.5</td>\n",
       "      <td>1.45</td>\n",
       "      <td>1.099724</td>\n",
       "    </tr>\n",
       "    <tr>\n",
       "      <th>4</th>\n",
       "      <td>14180</td>\n",
       "      <td>1.418</td>\n",
       "      <td>16.7</td>\n",
       "      <td>1.67</td>\n",
       "      <td>1.123463</td>\n",
       "    </tr>\n",
       "    <tr>\n",
       "      <th>...</th>\n",
       "      <td>...</td>\n",
       "      <td>...</td>\n",
       "      <td>...</td>\n",
       "      <td>...</td>\n",
       "      <td>...</td>\n",
       "    </tr>\n",
       "    <tr>\n",
       "      <th>193</th>\n",
       "      <td>39000000</td>\n",
       "      <td>3900.000</td>\n",
       "      <td>924.0</td>\n",
       "      <td>92.40</td>\n",
       "      <td>15.740609</td>\n",
       "    </tr>\n",
       "    <tr>\n",
       "      <th>194</th>\n",
       "      <td>40000000</td>\n",
       "      <td>4000.000</td>\n",
       "      <td>924.0</td>\n",
       "      <td>92.40</td>\n",
       "      <td>15.874011</td>\n",
       "    </tr>\n",
       "    <tr>\n",
       "      <th>195</th>\n",
       "      <td>40590000</td>\n",
       "      <td>4059.000</td>\n",
       "      <td>924.0</td>\n",
       "      <td>92.40</td>\n",
       "      <td>15.951677</td>\n",
       "    </tr>\n",
       "    <tr>\n",
       "      <th>196</th>\n",
       "      <td>40700000</td>\n",
       "      <td>4070.000</td>\n",
       "      <td>924.0</td>\n",
       "      <td>92.40</td>\n",
       "      <td>15.966074</td>\n",
       "    </tr>\n",
       "    <tr>\n",
       "      <th>197</th>\n",
       "      <td>50000000</td>\n",
       "      <td>5000.000</td>\n",
       "      <td>924.0</td>\n",
       "      <td>92.40</td>\n",
       "      <td>17.099759</td>\n",
       "    </tr>\n",
       "  </tbody>\n",
       "</table>\n",
       "<p>198 rows × 5 columns</p>\n",
       "</div>"
      ],
      "text/plain": [
       "           Da       kDa  Radius of gyration, Å  R, nm    kDa^1/3\n",
       "0       12640     1.264                   14.8   1.48   1.081224\n",
       "1       13700     1.370                   14.8   1.48   1.110641\n",
       "2       17000     1.700                   14.8   1.48   1.193483\n",
       "3       13300     1.330                   14.5   1.45   1.099724\n",
       "4       14180     1.418                   16.7   1.67   1.123463\n",
       "..        ...       ...                    ...    ...        ...\n",
       "193  39000000  3900.000                  924.0  92.40  15.740609\n",
       "194  40000000  4000.000                  924.0  92.40  15.874011\n",
       "195  40590000  4059.000                  924.0  92.40  15.951677\n",
       "196  40700000  4070.000                  924.0  92.40  15.966074\n",
       "197  50000000  5000.000                  924.0  92.40  17.099759\n",
       "\n",
       "[198 rows x 5 columns]"
      ]
     },
     "execution_count": 5,
     "metadata": {},
     "output_type": "execute_result"
    }
   ],
   "source": [
    "kDa_3 = pd.Series(data['kDa']**(1/3))\n",
    "data.insert(4, 'kDa^1/3', kDa_3)\n",
    "data"
   ]
  },
  {
   "cell_type": "code",
   "execution_count": 6,
   "metadata": {},
   "outputs": [
    {
     "data": {
      "text/plain": [
       "<AxesSubplot:xlabel='kDa^1/3', ylabel='R, nm'>"
      ]
     },
     "execution_count": 6,
     "metadata": {},
     "output_type": "execute_result"
    },
    {
     "data": {
      "image/png": "[encoded data removed]",
      "text/plain": [
       "<Figure size 432x288 with 1 Axes>"
      ]
     },
     "metadata": {
      "needs_background": "light"
     },
     "output_type": "display_data"
    }
   ],
   "source": [
    "%matplotlib inline\n",
    "\n",
    "data.plot.scatter('kDa^1/3', 'R, nm')"
   ]
  },
  {
   "cell_type": "markdown",
   "metadata": {},
   "source": [
    "A more apparently linear relationship appears to be present. Fit linear regression model to find function to calculate radius from molecular weight: y=mx+c."
   ]
  },
  {
   "cell_type": "code",
   "execution_count": 18,
   "metadata": {},
   "outputs": [
    {
     "data": {
      "text/plain": [
       "LinearRegression()"
      ]
     },
     "execution_count": 18,
     "metadata": {},
     "output_type": "execute_result"
    }
   ],
   "source": [
    "model = LinearRegression(fit_intercept=True)\n",
    "model.fit(data[['kDa^1/3']], data['R, nm'])"
   ]
  },
  {
   "cell_type": "code",
   "execution_count": 19,
   "metadata": {},
   "outputs": [
    {
     "data": {
      "text/plain": [
       "[<matplotlib.lines.Line2D at 0x1ed2eba7250>]"
      ]
     },
     "execution_count": 19,
     "metadata": {},
     "output_type": "execute_result"
    },
    {
     "data": {
      "image/png": "[encoded data removed]",
      "text/plain": [
       "<Figure size 432x288 with 1 Axes>"
      ]
     },
     "metadata": {
      "needs_background": "light"
     },
     "output_type": "display_data"
    }
   ],
   "source": [
    "x_fit = pd.DataFrame([data['kDa^1/3'].min(), data['kDa^1/3'].max()])\n",
    "y_pred = model.predict(x_fit)\n",
    "\n",
    "fig, ax = plt.subplots()\n",
    "data.plot.scatter('kDa^1/3', 'R, nm', ax=ax)\n",
    "ax.plot(x_fit[0], y_pred, linestyle=\":\")"
   ]
  },
  {
   "cell_type": "markdown",
   "metadata": {},
   "source": [
    "Find model intercept (c) and model gradient (m)."
   ]
  },
  {
   "cell_type": "code",
   "execution_count": 20,
   "metadata": {},
   "outputs": [
    {
     "name": "stdout",
     "output_type": "stream",
     "text": [
      "Model gradient: 3.8539970390926674\n",
      "Model intercept: -5.036358145506588\n"
     ]
    }
   ],
   "source": [
    "print(f'Model gradient: {model.coef_[0]}')\n",
    "print(f'Model intercept: {model.intercept_}')"
   ]
  },
  {
   "cell_type": "markdown",
   "metadata": {},
   "source": [
    "Find R^2"
   ]
  },
  {
   "cell_type": "code",
   "execution_count": 21,
   "metadata": {},
   "outputs": [
    {
     "data": {
      "text/plain": [
       "0.40930211169025355"
      ]
     },
     "execution_count": 21,
     "metadata": {},
     "output_type": "execute_result"
    }
   ],
   "source": [
    "model.score(data[['kDa^1/3']], data['R, nm'])"
   ]
  },
  {
   "cell_type": "markdown",
   "metadata": {},
   "source": [
    "Several outliers skew the linear regression and causes a relatively low R^2 value. To improve the model fit, exclude all values where y >= 35nm and x >= 10 kDa^1/3"
   ]
  },
  {
   "cell_type": "code",
   "execution_count": null,
   "metadata": {},
   "outputs": [],
   "source": []
  }
 ],
 "metadata": {
  "kernelspec": {
   "display_name": "Python 3",
   "language": "python",
   "name": "python3"
  },
  "language_info": {
   "codemirror_mode": {
    "name": "ipython",
    "version": 3
   },
   "file_extension": ".py",
   "mimetype": "text/x-python",
   "name": "python",
   "nbconvert_exporter": "python",
   "pygments_lexer": "ipython3",
   "version": "3.8.5"
  }
 },
 "nbformat": 4,
 "nbformat_minor": 4
}
